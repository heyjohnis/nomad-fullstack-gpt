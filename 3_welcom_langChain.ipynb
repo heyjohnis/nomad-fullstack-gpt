{
 "cells": [
  {
   "cell_type": "code",
   "execution_count": 7,
   "metadata": {},
   "outputs": [
    {
     "data": {
      "text/plain": [
       "'서울과 부산은 직선거리로 약 325km 정도 떨어져 있습니다. 그러나 실제로는 도로나 기차를 이용하여 이동할 경우 이 거리는 조금 더 길어질 수 있습니다. 일반적으로 자동차로 이동하는 경우 약 4~5시간 정도 소요되며, KTX를 이용하는 경우에는 약 2시간 30분 정도 소요됩니다.'"
      ]
     },
     "execution_count": 7,
     "metadata": {},
     "output_type": "execute_result"
    }
   ],
   "source": [
    "from langchain.chat_models import ChatOpenAI\n",
    "from langchain.prompts import PromptTemplate, ChatPromptTemplate\n",
    "from langchain.schema import prompt\n",
    "\n",
    "template = PromptTemplate.from_template(\"{region_a}와 {region_b}의 거리는 어떻게 되나요?\")\n",
    "\n",
    "prompt = template.format(region_a=\"서울\", region_b=\"부산\")\n",
    "\n",
    "# temperature 높을 수록 창의적임 0 ~ 1\n",
    "chat = ChatOpenAI(temperature=0.1)\n",
    "chat.predict(prompt)\n"
   ]
  },
  {
   "cell_type": "code",
   "execution_count": 4,
   "metadata": {},
   "outputs": [
    {
     "data": {
      "text/plain": [
       "AIMessage(content='서울에서 대구까지는 대략 300km 정도의 거리에요. 차로 이동하면 약 4~5시간 정도 소요될 것으로 예상되어요. 다양한 요인에 따라 소요 시간이 달라질 수 있으니 참고해주세요.')"
      ]
     },
     "execution_count": 4,
     "metadata": {},
     "output_type": "execute_result"
    }
   ],
   "source": [
    "from langchain.schema import HumanMessage, AIMessage, SystemMessage\n",
    "\n",
    "# SystemMessage: ChatModel의 페르소나, 역할지시\n",
    "# AIMessage: ChatModel의 답변\n",
    "# HumanMessage: 사용자의 질문, 요구사항\n",
    "message = [\n",
    "    SystemMessage(content=\"난 지리 전문가이고, {language}로 답해줘요.\"),\n",
    "    AIMessage(content=\"안녕하세요, {name}. 한국어로 답변해드릴게요.\"),\n",
    "    HumanMessage(content=\"{region_a}에서 {region_b}까지 차로가는 거리는 어떻게 돼나요?\")\n",
    "]\n",
    "\n",
    "chat.predict_messages(message)"
   ]
  },
  {
   "cell_type": "code",
   "execution_count": null,
   "metadata": {},
   "outputs": [
    {
     "data": {
      "text/plain": [
       "AIMessage(content='서울에서 부산까지는 대략 400~450km 정도의 거리에요. 고속도로를 이용하면 약 4~5시간 정도 소요되는데, 교통 상황에 따라 달라질 수 있어요. 출발 시간과 경로에 따라 다를 수 있으니 참고해주세요.')"
      ]
     },
     "execution_count": 12,
     "metadata": {},
     "output_type": "execute_result"
    }
   ],
   "source": [
    "# ChatPromptTemplate: ChatModel의 페르소나, 역할지시, 답변, 사용자의 질문, 요구사항을 한번에 정의\n",
    "\n",
    "template = ChatPromptTemplate.from_messages([\n",
    "    (\"system\", \"난 지리 전문가이고, {language}로 답해줘요.\"),\n",
    "    (\"ai\", \"안녕하세요, {name}. 한국어로 답변해드릴게요.\"),\n",
    "    (\"human\", \"{region_a}에서 {region_b}까지 차로가는 거리는 어떻게 돼나요?\")\n",
    "])\n",
    "\n",
    "message = template.format_messages(region_a=\"서울\", region_b=\"부산\", name=\"김지리\", language=\"한국어\")\n",
    "\n",
    "chat.predict_messages(message)"
   ]
  },
  {
   "cell_type": "code",
   "execution_count": 21,
   "metadata": {},
   "outputs": [
    {
     "data": {
      "text/plain": [
       "['Hello', 'how', 'are', 'you?']"
      ]
     },
     "execution_count": 21,
     "metadata": {},
     "output_type": "execute_result"
    }
   ],
   "source": [
    "from langchain.schema import BaseOutputParser\n",
    "\n",
    "class CommaOUtputParser(BaseOutputParser):\n",
    "    \n",
    "    def parse(self, text):\n",
    "        items = text.strip().split(\",\")\n",
    "        mapObj = map(str.strip, items)\n",
    "        return list(mapObj)\n",
    "    \n",
    "p = CommaOUtputParser()\n",
    "\n",
    "p.parse(\"   Hello, how,  are,  you?  \")"
   ]
  },
  {
   "cell_type": "code",
   "execution_count": 34,
   "metadata": {},
   "outputs": [
    {
     "data": {
      "text/plain": [
       "['지구', '화성', '목성', '금성', '토성', '해왕성', '우라누스', '넵튠', '수성', '명왕성']"
      ]
     },
     "execution_count": 34,
     "metadata": {},
     "output_type": "execute_result"
    }
   ],
   "source": [
    "template = ChatPromptTemplate.from_messages([\n",
    "    (\"system\", \"당신은 질문에 대한 답을 배열형으로 답변을 만들어 내고 comma로 구분해줍니다. 답변의 갯수는 최대 {max_items}개 입니다.\"),\n",
    "    (\"human\", \"{question}\"),\n",
    "])\n",
    "\n",
    "message = template.format_messages(max_items=3, question=\"행성들이 뭐가 있어?\")\n",
    "\n",
    "result = chat.predict_messages(message)\n",
    "\n",
    "p = CommaOUtputParser()\n",
    "\n",
    "p.parse(result.content)"
   ]
  },
  {
   "cell_type": "code",
   "execution_count": 33,
   "metadata": {},
   "outputs": [
    {
     "data": {
      "text/plain": [
       "['1. 수성\\n2. 금성\\n3. 지구']"
      ]
     },
     "execution_count": 33,
     "metadata": {},
     "output_type": "execute_result"
    }
   ],
   "source": [
    "chain = template | chat | CommaOUtputParser()\n",
    "\n",
    "chain.invoke({\"max_items\": 3, \"question\": \"행성들이 뭐가 있어?\"})"
   ]
  },
  {
   "cell_type": "code",
   "execution_count": null,
   "metadata": {},
   "outputs": [],
   "source": []
  }
 ],
 "metadata": {
  "kernelspec": {
   "display_name": "env",
   "language": "python",
   "name": "python3"
  },
  "language_info": {
   "codemirror_mode": {
    "name": "ipython",
    "version": 3
   },
   "file_extension": ".py",
   "mimetype": "text/x-python",
   "name": "python",
   "nbconvert_exporter": "python",
   "pygments_lexer": "ipython3",
   "version": "3.11.11"
  }
 },
 "nbformat": 4,
 "nbformat_minor": 2
}
