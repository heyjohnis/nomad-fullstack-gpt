{
 "cells": [
  {
   "cell_type": "code",
   "execution_count": 1,
   "metadata": {},
   "outputs": [
    {
     "data": {
      "text/plain": [
       "{'history': [HumanMessage(content='안녕, 나는 김희준이야~'),\n",
       "  AIMessage(content='안녕하세요! 만나서 반가워요~')]}"
      ]
     },
     "execution_count": 1,
     "metadata": {},
     "output_type": "execute_result"
    }
   ],
   "source": [
    "from httpx import get\n",
    "from langchain.memory import ConversationSummaryBufferMemory\n",
    "from langchain.chat_models import ChatOpenAI\n",
    "\n",
    "llm = ChatOpenAI(temperature=0.1)\n",
    "\n",
    "memory = ConversationSummaryBufferMemory(\n",
    "    llm=llm,\n",
    "    max_token_limit=150,\n",
    "    return_messages=True,\n",
    ")\n",
    "\n",
    "\n",
    "def add_message(input, output):\n",
    "    memory.save_context({\"input\": input}, {\"output\": output})\n",
    "\n",
    "\n",
    "def get_history():\n",
    "    return memory.load_memory_variables({})\n",
    "\n",
    "\n",
    "add_message(\"안녕, 나는 김희준이야~\", \"안녕하세요! 만나서 반가워요~\")\n",
    "get_history()"
   ]
  },
  {
   "cell_type": "code",
   "execution_count": 2,
   "metadata": {},
   "outputs": [],
   "source": [
    "add_message(\"오늘 날씨가 어때?\", \"오늘 날씨는 맑아요~\")\n",
    "get_history()"
   ]
  },
  {
   "cell_type": "code",
   "execution_count": 4,
   "metadata": {},
   "outputs": [
    {
     "data": {
      "text/plain": [
       "{'history': [HumanMessage(content='안녕, 나는 김희준이야~'),\n",
       "  AIMessage(content='안녕하세요! 만나서 반가워요~'),\n",
       "  HumanMessage(content='오늘 날씨가 어때?'),\n",
       "  AIMessage(content='오늘 날씨는 맑아요~'),\n",
       "  HumanMessage(content='오늘은 뭘 먹을까?'),\n",
       "  AIMessage(content='오늘은 떡볶이 어때요?')]}"
      ]
     },
     "execution_count": 4,
     "metadata": {},
     "output_type": "execute_result"
    }
   ],
   "source": [
    "add_message(\"오늘은 뭘 먹을까?\", \"오늘은 떡볶이 어때요?\")\n",
    "get_history()"
   ]
  },
  {
   "cell_type": "code",
   "execution_count": null,
   "metadata": {},
   "outputs": [
    {
     "data": {
      "text/plain": [
       "{'history': [SystemMessage(content='The human greets the AI in Korean, introducing themselves as Kim Heejoon.'),\n",
       "  AIMessage(content='안녕하세요! 만나서 반가워요~'),\n",
       "  HumanMessage(content='오늘 날씨가 어때?'),\n",
       "  AIMessage(content='오늘 날씨는 맑아요~'),\n",
       "  HumanMessage(content='오늘은 뭘 먹을까?'),\n",
       "  AIMessage(content='오늘은 떡볶이 어때요?'),\n",
       "  HumanMessage(content='내일은 뭐하지?'),\n",
       "  AIMessage(content='내일은 영화보러 가는 건 어때요?')]}"
      ]
     },
     "execution_count": 5,
     "metadata": {},
     "output_type": "execute_result"
    }
   ],
   "source": [
    "add_message(\"내일은 뭐하지?\", \"내일은 영화보러 가는 건 어때요?\")\n",
    "get_history()"
   ]
  },
  {
   "cell_type": "code",
   "execution_count": 7,
   "metadata": {},
   "outputs": [
    {
     "data": {
      "text/plain": [
       "{'history': [SystemMessage(content='The human greets the AI in Korean, introducing themselves as Kim Heejoon. The AI responds in Korean, expressing pleasure at meeting Kim Heejoon and commenting on the clear weather. Kim Heejoon asks what they should eat today.'),\n",
       "  AIMessage(content='오늘은 떡볶이 어때요?'),\n",
       "  HumanMessage(content='내일은 뭐하지?'),\n",
       "  AIMessage(content='내일은 영화보러 가는 건 어때요?'),\n",
       "  HumanMessage(content='나의 직업은 프로그래머야'),\n",
       "  AIMessage(content='프로그래머분들은 대단해요~'),\n",
       "  HumanMessage(content='나의 직업은 프로그래머야'),\n",
       "  AIMessage(content='프로그래머분들은 대단해요~')]}"
      ]
     },
     "execution_count": 7,
     "metadata": {},
     "output_type": "execute_result"
    }
   ],
   "source": [
    "add_message(\"나의 직업은 프로그래머야\", \"프로그래머분들은 대단해요~\")\n",
    "get_history()"
   ]
  },
  {
   "cell_type": "code",
   "execution_count": 10,
   "metadata": {},
   "outputs": [
    {
     "data": {
      "text/plain": [
       "{'history': [SystemMessage(content='The human greets the AI in Korean as Kim Heejoon and the AI responds in Korean, suggesting tteokbokki for today. Kim Heejoon asks what they should eat tomorrow, to which the AI suggests going to watch a movie. The human responds that their profession is a programmer and the AI compliments programmers, to which the human confirms their profession as a programmer.'),\n",
       "  AIMessage(content='프로그래머분들은 대단해요~'),\n",
       "  HumanMessage(content='나는 어떤 사람인가?'),\n",
       "  AIMessage(content='당신은 착한 사람이에요~'),\n",
       "  HumanMessage(content='나는 어떤 사람인가?'),\n",
       "  AIMessage(content='당신은 착한 사람이에요~'),\n",
       "  HumanMessage(content='나는 어떤 사람인가?'),\n",
       "  AIMessage(content='당신은 착한 사람이에요~')]}"
      ]
     },
     "execution_count": 10,
     "metadata": {},
     "output_type": "execute_result"
    }
   ],
   "source": [
    "add_message(\"나는 어떤 사람인가?\", \"당신은 착한 사람이에요~\")\n",
    "get_history()"
   ]
  },
  {
   "cell_type": "code",
   "execution_count": null,
   "metadata": {},
   "outputs": [],
   "source": []
  }
 ],
 "metadata": {
  "kernelspec": {
   "display_name": "env",
   "language": "python",
   "name": "python3"
  },
  "language_info": {
   "codemirror_mode": {
    "name": "ipython",
    "version": 3
   },
   "file_extension": ".py",
   "mimetype": "text/x-python",
   "name": "python",
   "nbconvert_exporter": "python",
   "pygments_lexer": "ipython3",
   "version": "3.11.11"
  }
 },
 "nbformat": 4,
 "nbformat_minor": 2
}
