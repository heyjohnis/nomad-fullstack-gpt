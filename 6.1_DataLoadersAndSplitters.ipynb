{
  "cells": [
    {
      "cell_type": "code",
      "execution_count": null,
      "metadata": {},
      "outputs": [
        {
          "ename": "",
          "evalue": "",
          "output_type": "error",
          "traceback": [
            "\u001b[1;31m'env/lib/python3.10/site-packages/psutil/_psutil_osx.abi3.so, 0x0002' 파일이 포함 모듈을 무시하고 kernel 시작을 방해하는 것 같습니다. 파일 이름을 바꾸고 kernel을 다시 시작하는 것을 고려하세요.\n",
            "\u001b[1;31m자세한 내용을 보려면 <a href='https://aka.ms/kernelFailuresOverridingBuiltInModules'>여기</a>를 클릭합니다."
          ]
        }
      ],
      "source": [
        "from langchain.chat_models import ChatOpenAI\n",
        "from langchain.document_loaders import PyPdfLoader\n",
        "from langchain.text_splitter import RecursiveCharacterTextSplitter\n",
        "\n",
        "splitter = RecursiveCharacterTextSplitter()\n",
        "\n",
        "loader = PyPdfLoader(\"./files/book.pdf\")\n",
        "\n",
        "loader.load_and_split(text_splitter=splitter)"
      ]
    }
  ],
  "metadata": {
    "kernelspec": {
      "display_name": "env",
      "language": "python",
      "name": "python3"
    },
    "language_info": {
      "codemirror_mode": {
        "name": "ipython",
        "version": 3
      },
      "file_extension": ".py",
      "mimetype": "text/x-python",
      "name": "python",
      "nbconvert_exporter": "python",
      "pygments_lexer": "ipython3",
      "version": "3.10.7"
    }
  },
  "nbformat": 4,
  "nbformat_minor": 2
}
