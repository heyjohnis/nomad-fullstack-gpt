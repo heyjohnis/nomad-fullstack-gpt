{
 "cells": [
  {
   "cell_type": "code",
   "execution_count": 1,
   "metadata": {},
   "outputs": [],
   "source": [
    "from langchain.chat_models import ChatOpenAI\n",
    "from langchain.prompts import ChatPromptTemplate\n",
    "from langchain.callbacks import StreamingStdOutCallbackHandler\n",
    "\n",
    "chat = ChatOpenAI(\n",
    "    temperature=0.1,\n",
    "    streaming=True,\n",
    "    callbacks=[\n",
    "        StreamingStdOutCallbackHandler(),\n",
    "    ],\n",
    ")\n",
    "\n",
    "chef_prompt = ChatPromptTemplate.from_messages(\n",
    "    [\n",
    "        (\n",
    "            \"system\",\n",
    "            \"나는 {cuisine} 음식을 요리하고 싶어요.\",\n",
    "        ),\n",
    "        (\"human\", \"나는 {cuisine} 음식을 요리하고 싶어요.\"),\n",
    "    ]\n",
    ")\n",
    "\n",
    "chef_chain = chef_prompt | chat"
   ]
  },
  {
   "cell_type": "code",
   "execution_count": 3,
   "metadata": {},
   "outputs": [
    {
     "name": "stdout",
     "output_type": "stream",
     "text": [
      "멋진 선택이에요! Indian 음식은 매우 다양하고 맛있는데, 어떤 요리를 해보고 싶으세요? 저에게 레시피를 알려주시면 도와드릴게요.인도 음식을 선택하셔서 멋진 선택이에요! 어떤 인도 요리를 해보고 싶으신가요? 제가 도와드릴게요. 레시피를 알려주시면 해당 요리에 대한 조리 방법과 팁을 제공해드릴게요. 함께 즐거운 요리 시간 보내시길 바랍니다."
     ]
    },
    {
     "data": {
      "text/plain": [
       "AIMessageChunk(content='인도 음식을 선택하셔서 멋진 선택이에요! 어떤 인도 요리를 해보고 싶으신가요? 제가 도와드릴게요. 레시피를 알려주시면 해당 요리에 대한 조리 방법과 팁을 제공해드릴게요. 함께 즐거운 요리 시간 보내시길 바랍니다.')"
      ]
     },
     "execution_count": 3,
     "metadata": {},
     "output_type": "execute_result"
    }
   ],
   "source": [
    "veg_chef_prompt = ChatPromptTemplate.from_messages(\n",
    "    [\n",
    "        (\n",
    "            \"system\",\n",
    "            \"나는 채식주의 요리사 AI입니다. 레시피, 요리 팁 등을 도와드릴 수 있습니다. 무엇을 도와드릴까요?\",\n",
    "        ),\n",
    "        (\"human\", \"{recip}, 한국어로 답변해주세요.\")\n",
    "    ]\n",
    ")\n",
    "\n",
    "veg_chain = veg_chef_prompt | chat\n",
    "\n",
    "final_chain = {\"recip\": chef_chain} | veg_chain\n",
    "\n",
    "final_chain.invoke({\"cuisine\": \"Indian\"})\n",
    "\n",
    "\n"
   ]
  },
  {
   "cell_type": "code",
   "execution_count": null,
   "metadata": {},
   "outputs": [],
   "source": []
  }
 ],
 "metadata": {
  "kernelspec": {
   "display_name": "env",
   "language": "python",
   "name": "python3"
  },
  "language_info": {
   "codemirror_mode": {
    "name": "ipython",
    "version": 3
   },
   "file_extension": ".py",
   "mimetype": "text/x-python",
   "name": "python",
   "nbconvert_exporter": "python",
   "pygments_lexer": "ipython3",
   "version": "3.11.11"
  }
 },
 "nbformat": 4,
 "nbformat_minor": 2
}
