{
 "cells": [
  {
   "cell_type": "code",
   "execution_count": 2,
   "metadata": {},
   "outputs": [
    {
     "name": "stdout",
     "output_type": "stream",
     "text": [
      "\n",
      "\n",
      "\u001b[1m> Entering new LLMChain chain...\u001b[0m\n",
      "Prompt after formatting:\n",
      "\u001b[32;1m\u001b[1;3mSystem: 당신은 인간의 대화를 이해하고 돕습니다.\n",
      "Human: 내 이름은 김희준입니다.\u001b[0m\n",
      "\n",
      "\u001b[1m> Finished chain.\u001b[0m\n"
     ]
    },
    {
     "data": {
      "text/plain": [
       "'안녕하세요, 김희준님. 만나서 반가워요. 무엇을 도와드릴까요?'"
      ]
     },
     "execution_count": 2,
     "metadata": {},
     "output_type": "execute_result"
    }
   ],
   "source": [
    "from langchain.memory import ConversationSummaryBufferMemory, prompt\n",
    "from langchain.chat_models import ChatOpenAI\n",
    "from langchain.chains import LLMChain\n",
    "from langchain.prompts import ChatPromptTemplate, MessagesPlaceholder\n",
    "\n",
    "llm = ChatOpenAI(temperature=0.1)\n",
    "\n",
    "memory = ConversationSummaryBufferMemory(\n",
    "    llm=llm,\n",
    "    max_token_limit=120,\n",
    "    memory_key=\"chat_history\",\n",
    "    return_messages=True,\n",
    ")\n",
    "\n",
    "prompt = ChatPromptTemplate.from_messages([\n",
    "    (\"system\", \"당신은 인간의 대화를 이해하고 돕습니다.\"),\n",
    "    MessagesPlaceholder(variable_name=\"chat_history\"),\n",
    "    (\"human\", \"{question}\"),\n",
    "])\n",
    "\n",
    "chain = LLMChain(\n",
    "    llm=llm,\n",
    "    memory=memory,\n",
    "    prompt=prompt,\n",
    "    verbose=True,\n",
    ")\n",
    "\n",
    "chain.predict(question=\"내 이름은 김희준입니다.\")"
   ]
  },
  {
   "cell_type": "code",
   "execution_count": 3,
   "metadata": {},
   "outputs": [
    {
     "name": "stdout",
     "output_type": "stream",
     "text": [
      "\n",
      "\n",
      "\u001b[1m> Entering new LLMChain chain...\u001b[0m\n",
      "Prompt after formatting:\n",
      "\u001b[32;1m\u001b[1;3mSystem: 당신은 인간의 대화를 이해하고 돕습니다.\n",
      "Human: 내 이름은 김희준입니다.\n",
      "AI: 안녕하세요, 김희준님. 만나서 반가워요. 무엇을 도와드릴까요?\n",
      "Human: 직업은 프로그래머입니다.\u001b[0m\n",
      "\n",
      "\u001b[1m> Finished chain.\u001b[0m\n"
     ]
    },
    {
     "data": {
      "text/plain": [
       "'프로그래머로 일하시다니 멋있네요! 어떤 프로그래밍 언어나 기술을 주로 사용하시나요? 무엇에 대해 도움을 원하시나요?'"
      ]
     },
     "execution_count": 3,
     "metadata": {},
     "output_type": "execute_result"
    }
   ],
   "source": [
    "chain.predict(question=\"직업은 프로그래머입니다.\")"
   ]
  },
  {
   "cell_type": "code",
   "execution_count": 4,
   "metadata": {},
   "outputs": [
    {
     "name": "stdout",
     "output_type": "stream",
     "text": [
      "\n",
      "\n",
      "\u001b[1m> Entering new LLMChain chain...\u001b[0m\n",
      "Prompt after formatting:\n",
      "\u001b[32;1m\u001b[1;3mSystem: 당신은 인간의 대화를 이해하고 돕습니다.\n",
      "System: The human introduces themselves as Kim Heejoon. The AI responds in Korean, greeting Kim Heejoon and asking how it can help.\n",
      "Human: 직업은 프로그래머입니다.\n",
      "AI: 프로그래머로 일하시다니 멋있네요! 어떤 프로그래밍 언어나 기술을 주로 사용하시나요? 무엇에 대해 도움을 원하시나요?\n",
      "Human: 나이는 45살입니다.\u001b[0m\n",
      "\n",
      "\u001b[1m> Finished chain.\u001b[0m\n"
     ]
    },
    {
     "data": {
      "text/plain": [
       "'나이를 알려주셔서 감사합니다. 프로그래머로서의 경력이 꽤 오래 되셨군요. 어떤 분야에서 주로 일하시나요? 그리고 현재 어떤 도움이 필요하신가요? 부족한 부분이나 궁금한 점이 있으면 물어보세요. 저는 최대한 도와드리겠습니다.'"
      ]
     },
     "execution_count": 4,
     "metadata": {},
     "output_type": "execute_result"
    }
   ],
   "source": [
    "chain.predict(question=\"나이는 45살입니다.\")"
   ]
  },
  {
   "cell_type": "code",
   "execution_count": 5,
   "metadata": {},
   "outputs": [
    {
     "name": "stdout",
     "output_type": "stream",
     "text": [
      "\n",
      "\n",
      "\u001b[1m> Entering new LLMChain chain...\u001b[0m\n",
      "Prompt after formatting:\n",
      "\u001b[32;1m\u001b[1;3mSystem: 당신은 인간의 대화를 이해하고 돕습니다.\n",
      "System: The human introduces themselves as Kim Heejoon. The AI responds in Korean, greeting Kim Heejoon and asking how it can help. Kim Heejoon reveals they are a programmer and the AI expresses admiration for their profession. The AI asks about the programming languages and technologies Kim Heejoon uses and what kind of help they need. Kim Heejoon shares they are 45 years old and the AI acknowledges their experience in the field. The AI asks about the specific area Kim Heejoon works in and what assistance they require, offering to help with any gaps in knowledge or questions they may have.\n",
      "Human: 내 이름이 뭐지?\u001b[0m\n",
      "\n",
      "\u001b[1m> Finished chain.\u001b[0m\n"
     ]
    },
    {
     "data": {
      "text/plain": [
       "'당신의 이름은 김희준이에요. 어떻게 도와드릴까요?'"
      ]
     },
     "execution_count": 5,
     "metadata": {},
     "output_type": "execute_result"
    }
   ],
   "source": [
    "chain.predict(question=\"내 이름이 뭐지?\")"
   ]
  },
  {
   "cell_type": "code",
   "execution_count": 6,
   "metadata": {},
   "outputs": [
    {
     "data": {
      "text/plain": [
       "{'chat_history': [SystemMessage(content='The human introduces themselves as Kim Heejoon. The AI responds in Korean, greeting Kim Heejoon and asking how it can help. Kim Heejoon reveals they are a programmer and the AI expresses admiration for their profession. The AI asks about the programming languages and technologies Kim Heejoon uses and what kind of help they need. Kim Heejoon shares they are 45 years old and the AI acknowledges their experience in the field. The AI asks about the specific area Kim Heejoon works in and what assistance they require, offering to help with any gaps in knowledge or questions they may have.'),\n",
       "  HumanMessage(content='내 이름이 뭐지?'),\n",
       "  AIMessage(content='당신의 이름은 김희준이에요. 어떻게 도와드릴까요?')]}"
      ]
     },
     "execution_count": 6,
     "metadata": {},
     "output_type": "execute_result"
    }
   ],
   "source": [
    "memory.load_memory_variables({})"
   ]
  },
  {
   "cell_type": "code",
   "execution_count": null,
   "metadata": {},
   "outputs": [],
   "source": []
  },
  {
   "cell_type": "code",
   "execution_count": null,
   "metadata": {},
   "outputs": [],
   "source": []
  }
 ],
 "metadata": {
  "kernelspec": {
   "display_name": "env",
   "language": "python",
   "name": "python3"
  },
  "language_info": {
   "codemirror_mode": {
    "name": "ipython",
    "version": 3
   },
   "file_extension": ".py",
   "mimetype": "text/x-python",
   "name": "python",
   "nbconvert_exporter": "python",
   "pygments_lexer": "ipython3",
   "version": "3.11.11"
  }
 },
 "nbformat": 4,
 "nbformat_minor": 2
}
