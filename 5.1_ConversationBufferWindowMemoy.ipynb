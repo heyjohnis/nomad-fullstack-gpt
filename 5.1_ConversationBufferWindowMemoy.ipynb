{
 "cells": [
  {
   "cell_type": "code",
   "execution_count": 1,
   "metadata": {},
   "outputs": [],
   "source": [
    "from langchain.memory import ConversationBufferWindowMemory\n",
    "from langchain.schema.runnable.utils import add\n",
    "\n",
    "memory = ConversationBufferWindowMemory(\n",
    "    return_messages=True,\n",
    "    k=4,\n",
    ")\n",
    "\n",
    "def add_message(input, output):\n",
    "    memory.save_context({\"input\": input}, {\"output\": output})\n",
    "    \n",
    "add_message(\"1+1\", \"2\")\n",
    "add_message(\"2+2\", \"4\")\n",
    "add_message(\"3+3\", \"6\")\n",
    "add_message(\"4+4\", \"8\")\n",
    "\n",
    "    "
   ]
  },
  {
   "cell_type": "code",
   "execution_count": 2,
   "metadata": {},
   "outputs": [
    {
     "data": {
      "text/plain": [
       "{'history': [HumanMessage(content='1+1'),\n",
       "  AIMessage(content='2'),\n",
       "  HumanMessage(content='2+2'),\n",
       "  AIMessage(content='4'),\n",
       "  HumanMessage(content='3+3'),\n",
       "  AIMessage(content='6'),\n",
       "  HumanMessage(content='4+4'),\n",
       "  AIMessage(content='8')]}"
      ]
     },
     "execution_count": 2,
     "metadata": {},
     "output_type": "execute_result"
    }
   ],
   "source": [
    "memory.load_memory_variables({})"
   ]
  },
  {
   "cell_type": "code",
   "execution_count": 3,
   "metadata": {},
   "outputs": [
    {
     "data": {
      "text/plain": [
       "{'history': [HumanMessage(content='2+2'),\n",
       "  AIMessage(content='4'),\n",
       "  HumanMessage(content='3+3'),\n",
       "  AIMessage(content='6'),\n",
       "  HumanMessage(content='4+4'),\n",
       "  AIMessage(content='8'),\n",
       "  HumanMessage(content='5+5'),\n",
       "  AIMessage(content='10')]}"
      ]
     },
     "execution_count": 3,
     "metadata": {},
     "output_type": "execute_result"
    }
   ],
   "source": [
    "add_message(\"5+5\", \"10\")\n",
    "memory.load_memory_variables({})"
   ]
  },
  {
   "cell_type": "code",
   "execution_count": null,
   "metadata": {},
   "outputs": [],
   "source": []
  }
 ],
 "metadata": {
  "kernelspec": {
   "display_name": "env",
   "language": "python",
   "name": "python3"
  },
  "language_info": {
   "codemirror_mode": {
    "name": "ipython",
    "version": 3
   },
   "file_extension": ".py",
   "mimetype": "text/x-python",
   "name": "python",
   "nbconvert_exporter": "python",
   "pygments_lexer": "ipython3",
   "version": "3.11.11"
  }
 },
 "nbformat": 4,
 "nbformat_minor": 2
}
