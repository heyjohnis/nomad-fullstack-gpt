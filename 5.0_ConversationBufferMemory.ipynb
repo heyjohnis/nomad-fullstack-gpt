{
 "cells": [
  {
   "cell_type": "code",
   "execution_count": 5,
   "metadata": {},
   "outputs": [
    {
     "data": {
      "text/plain": [
       "{'history': [HumanMessage(content='안녕~ John이야'),\n",
       "  AIMessage(content='안녕~ John')]}"
      ]
     },
     "execution_count": 5,
     "metadata": {},
     "output_type": "execute_result"
    }
   ],
   "source": [
    "from langchain.memory import ConversationBufferMemory\n",
    "\n",
    "\n",
    "memory = ConversationBufferMemory(return_messages=True)\n",
    "\n",
    "memory.save_context({\"input:\": \"안녕~ John이야\"}, {\"output\": \"안녕~ John\"})\n",
    "\n",
    "memory.load_memory_variables({})"
   ]
  },
  {
   "cell_type": "code",
   "execution_count": 6,
   "metadata": {},
   "outputs": [
    {
     "data": {
      "text/plain": [
       "{'history': [HumanMessage(content='안녕~ John이야'),\n",
       "  AIMessage(content='안녕~ John'),\n",
       "  HumanMessage(content='안녕~ John이야'),\n",
       "  AIMessage(content='안녕~ John')]}"
      ]
     },
     "execution_count": 6,
     "metadata": {},
     "output_type": "execute_result"
    }
   ],
   "source": [
    "memory.save_context({\"input:\": \"안녕~ John이야\"}, {\"output\": \"안녕~ John\"})\n",
    "\n",
    "memory.load_memory_variables({})"
   ]
  },
  {
   "cell_type": "code",
   "execution_count": 7,
   "metadata": {},
   "outputs": [
    {
     "data": {
      "text/plain": [
       "{'history': [HumanMessage(content='안녕~ John이야'),\n",
       "  AIMessage(content='안녕~ John'),\n",
       "  HumanMessage(content='안녕~ John이야'),\n",
       "  AIMessage(content='안녕~ John'),\n",
       "  HumanMessage(content='안녕~ John이야'),\n",
       "  AIMessage(content='안녕~ John')]}"
      ]
     },
     "execution_count": 7,
     "metadata": {},
     "output_type": "execute_result"
    }
   ],
   "source": [
    "memory.save_context({\"input:\": \"안녕~ John이야\"}, {\"output\": \"안녕~ John\"})\n",
    "\n",
    "memory.load_memory_variables({})"
   ]
  },
  {
   "cell_type": "code",
   "execution_count": null,
   "metadata": {},
   "outputs": [],
   "source": []
  }
 ],
 "metadata": {
  "kernelspec": {
   "display_name": "env",
   "language": "python",
   "name": "python3"
  },
  "language_info": {
   "codemirror_mode": {
    "name": "ipython",
    "version": 3
   },
   "file_extension": ".py",
   "mimetype": "text/x-python",
   "name": "python",
   "nbconvert_exporter": "python",
   "pygments_lexer": "ipython3",
   "version": "3.11.11"
  }
 },
 "nbformat": 4,
 "nbformat_minor": 2
}
